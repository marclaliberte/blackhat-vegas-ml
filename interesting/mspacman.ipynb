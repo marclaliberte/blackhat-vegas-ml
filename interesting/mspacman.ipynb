{
 "cells": [
  {
   "cell_type": "code",
   "execution_count": 1,
   "metadata": {},
   "outputs": [
    {
     "name": "stderr",
     "output_type": "stream",
     "text": [
      "[2017-07-01 14:00:48,403] Making new env: MsPacman-v0\n"
     ]
    }
   ],
   "source": [
    "# based on https://github.com/ageron/tiny-dqn\n",
    "    \n",
    "from __future__ import division, print_function, unicode_literals\n",
    "\n",
    "from collections import deque\n",
    "import gym\n",
    "import numpy as np\n",
    "import numpy.random as rnd\n",
    "import os\n",
    "import tensorflow as tf\n",
    "from tensorflow.contrib.layers import convolution2d, fully_connected\n",
    "\n",
    "env = gym.make(\"MsPacman-v0\")\n",
    "done = True  # env needs to be reset\n",
    "\n"
   ]
  },
  {
   "cell_type": "code",
   "execution_count": 2,
   "metadata": {
    "collapsed": true
   },
   "outputs": [],
   "source": [
    "# TensorFlow - Construction phase\n",
    "input_height = 88\n",
    "input_width = 80\n",
    "input_channels = 1  # we only look at one frame at a time, so ghosts and power pellets really are invisible when they blink\n",
    "conv_n_maps = [32, 64, 64]\n",
    "conv_kernel_sizes = [(8,8), (4,4), (3,3)]\n",
    "conv_strides = [4, 2, 1]\n",
    "conv_paddings = [\"SAME\"] * 3\n",
    "conv_activation = [tf.nn.relu] * 3\n",
    "n_hidden_inputs = 64 * 11 * 10  # conv3 has 64 maps of 11x10 each\n",
    "n_hidden = 512\n",
    "hidden_activation = tf.nn.relu\n",
    "n_outputs = env.action_space.n  # MsPacman has 9 actions: upper left, up, upper right, left, and so on.\n",
    "initializer = tf.contrib.layers.variance_scaling_initializer() # He initialization\n",
    "learning_rate = 0.01\n",
    "\n",
    "def q_network(X_state, scope):\n",
    "    prev_layer = X_state\n",
    "    conv_layers = []\n",
    "    with tf.variable_scope(scope) as scope:\n",
    "        for n_maps, kernel_size, stride, padding, activation in zip(conv_n_maps, conv_kernel_sizes, conv_strides, conv_paddings, conv_activation):\n",
    "            prev_layer = convolution2d(prev_layer, num_outputs=n_maps, kernel_size=kernel_size, stride=stride, padding=padding, activation_fn=activation, weights_initializer=initializer)\n",
    "            conv_layers.append(prev_layer)\n",
    "        last_conv_layer_flat = tf.reshape(prev_layer, shape=[-1, n_hidden_inputs])\n",
    "        hidden = fully_connected(last_conv_layer_flat, n_hidden, activation_fn=hidden_activation, weights_initializer=initializer)\n",
    "        outputs = fully_connected(hidden, n_outputs, activation_fn=None)\n",
    "    trainable_vars = {var.name[len(scope.name):]: var for var in tf.get_collection(tf.GraphKeys.TRAINABLE_VARIABLES, scope=scope.name)}\n",
    "    return outputs, trainable_vars"
   ]
  },
  {
   "cell_type": "code",
   "execution_count": 3,
   "metadata": {
    "collapsed": true
   },
   "outputs": [],
   "source": [
    "X_state = tf.placeholder(tf.float32, shape=[None, input_height, input_width, input_channels])\n",
    "actor_q_values, actor_vars = q_network(X_state, scope=\"q_networks/actor\")    # acts\n",
    "\n",
    "with tf.variable_scope(\"train\"):\n",
    "    X_action = tf.placeholder(tf.int32, shape=[None])\n",
    "    y = tf.placeholder(tf.float32, shape=[None, 1])\n",
    "    q_value = tf.reduce_sum(actor_q_values * tf.one_hot(X_action, n_outputs),  # was critic_q_values before\n",
    "                            reduction_indices=1, keep_dims=True)\n",
    "    cost = tf.reduce_mean(tf.square(y - q_value))\n",
    "    global_step = tf.Variable(0, trainable=False, name=\"global_step\")\n",
    "    optimizer = tf.train.AdamOptimizer(learning_rate)\n",
    "    training_op = optimizer.minimize(cost, global_step=global_step)\n",
    "\n",
    "init = tf.global_variables_initializer()\n",
    "saver = tf.train.Saver()"
   ]
  },
  {
   "cell_type": "code",
   "execution_count": 4,
   "metadata": {
    "collapsed": true
   },
   "outputs": [],
   "source": [
    "# Replay memory, epsilon-greedy policy and observation preprocessing\n",
    "replay_memory_size = 1000\n",
    "replay_memory = deque([], maxlen=replay_memory_size)\n",
    "\n",
    "def sample_memories(batch_size):\n",
    "    indices = rnd.permutation(len(replay_memory))[:batch_size]\n",
    "    cols = [[], [], [], [], []] # state, action, reward, next_state, continue\n",
    "    for idx in indices:\n",
    "        memory = replay_memory[idx]\n",
    "        for col, value in zip(cols, memory):\n",
    "            col.append(value)\n",
    "    cols = [np.array(col) for col in cols]\n",
    "    return cols[0], cols[1], cols[2].reshape(-1, 1), cols[3], cols[4].reshape(-1, 1)\n",
    "\n",
    "epsilon_min = 0.05\n",
    "epsilon_max = 1.0\n",
    "n_steps = 2000\n",
    "epsilon_decay_steps = n_steps // 2\n",
    "epsilon = epsilon_max\n",
    "\n",
    "def epsilon_greedy(q_values, epsilon):\n",
    "    if rnd.rand() < epsilon:\n",
    "        return rnd.randint(n_outputs) # random action\n",
    "    else:\n",
    "        return np.argmax(q_values) # optimal action\n",
    "\n",
    "mspacman_color = np.array([210, 164, 74]).mean()\n",
    "\n",
    "def preprocess_observation(obs):\n",
    "    img = obs[1:176:2, ::2] # crop and downsize\n",
    "    img = img.mean(axis=2) # to greyscale\n",
    "    img[img==mspacman_color] = 0 # Improve contrast\n",
    "    img = (img - 128) / 128 - 1 # normalize from -1. to 1.\n",
    "    return img.reshape(88, 80, 1)\n",
    "\n",
    "# TensorFlow - Execution phase\n",
    "\n",
    "learning_start_iteration = 1000\n",
    "learning_every_n_iterations = 3\n",
    "batch_size = 50\n",
    "discount_rate = 0.95\n",
    "skip_start = 90\n",
    "iteration = 0\n",
    "scores = []"
   ]
  },
  {
   "cell_type": "code",
   "execution_count": 5,
   "metadata": {
    "scrolled": true
   },
   "outputs": [
    {
     "name": "stderr",
     "output_type": "stream",
     "text": [
      "/Users/sinanozdemir/Dropbox/CODE/personal_code/personal_code/lib/python2.7/site-packages/ipykernel_launcher.py:20: RuntimeWarning: invalid value encountered in true_divide\n"
     ]
    },
    {
     "name": "stdout",
     "output_type": "stream",
     "text": [
      "Iteration 6999\tTraining step 1999/2000 (100.0%)\tepsilon=0.05\tloss: 87513681347.89"
     ]
    }
   ],
   "source": [
    "verbosity = 1\n",
    "render = True\n",
    "save_steps = 50\n",
    "copy_steps = 25\n",
    "loss = 0.\n",
    "score = 0.\n",
    "\n",
    "with tf.Session() as sess:\n",
    "    if os.path.isfile(\"my_dqn.ckp\"):  # restores a previous version\n",
    "        saver.restore(sess, \"my_dqn.ckp\")\n",
    "    else:\n",
    "        init.run()\n",
    "    \n",
    "    while True:\n",
    "        step = global_step.eval()\n",
    "        if step >= n_steps:\n",
    "            break\n",
    "        iteration += 1\n",
    "        if verbosity > 0:\n",
    "            print(\"\\rIteration {}\\tTraining step {}/{} ({:.1f}%)\\tepsilon={:.2f}\\tloss: {:.2f}\".format(iteration, step, n_steps, step * 100 / n_steps, epsilon, loss/step), end=\"\")\n",
    "        if done: # game over, start again\n",
    "            scores.append(score)\n",
    "            score = 0.\n",
    "            obs = env.reset()\n",
    "            for skip in range(skip_start): # skip boring game iterations at the start of each game\n",
    "                obs, reward, done, info = env.step(0)\n",
    "            state = preprocess_observation(obs)\n",
    "        if render:\n",
    "            env.render()\n",
    "\n",
    "        # Actor evaluates what to do\n",
    "        q_values = actor_q_values.eval(feed_dict={X_state: [state]})\n",
    "        epsilon = max(epsilon_min, epsilon_max - (epsilon_max - epsilon_min) * global_step.eval() / epsilon_decay_steps)\n",
    "        action = epsilon_greedy(q_values, epsilon)\n",
    "\n",
    "        # Actor plays\n",
    "        obs, reward, done, info = env.step(action)\n",
    "        next_state = preprocess_observation(obs)\n",
    "        score += reward\n",
    "\n",
    "        # Let's memorize what just happened\n",
    "        replay_memory.append((state, action, reward, next_state, 1.0 - done))\n",
    "        state = next_state\n",
    "\n",
    "        # Critic learns\n",
    "        if iteration > learning_start_iteration and iteration % learning_every_n_iterations == 0:\n",
    "            X_state_val, X_action_val, rewards, X_next_state_val, continues = sample_memories(batch_size)\n",
    "            # TODO I don't understand this line of code\n",
    "            next_q_values = actor_q_values.eval(feed_dict={X_state: X_next_state_val})  # (50,9)\n",
    "            # TODO I don't understand this line of code\n",
    "            y_val = rewards + continues * discount_rate * np.max(next_q_values, axis=1, keepdims=True)\n",
    "            _, _loss = sess.run([training_op, cost], feed_dict={X_state: X_state_val, X_action: X_action_val, y: y_val})\n",
    "            loss += _loss\n",
    "\n",
    "            if global_step.eval() % save_steps == 0:\n",
    "                saver.save(sess, \"my_dqn.ckp\")"
   ]
  },
  {
   "cell_type": "code",
   "execution_count": 9,
   "metadata": {
    "collapsed": true
   },
   "outputs": [],
   "source": [
    "def running_mean(l, N):\n",
    "    sum = 0\n",
    "    result = list( 0 for x in l)\n",
    "\n",
    "    for i in range( 0, N ):\n",
    "        sum = sum + l[i]\n",
    "        result[i] = sum / (i+1)\n",
    "\n",
    "    for i in range( N, len(l) ):\n",
    "        sum = sum - l[i-N] + l[i]\n",
    "        result[i] = sum / N\n",
    "\n",
    "    return result"
   ]
  },
  {
   "cell_type": "code",
   "execution_count": 11,
   "metadata": {},
   "outputs": [
    {
     "data": {
      "text/plain": [
       "[0.0,\n",
       " 210.0,\n",
       " 80.0,\n",
       " 130.0,\n",
       " 600.0,\n",
       " 1720.0,\n",
       " 400.0,\n",
       " 580.0,\n",
       " 640.0,\n",
       " 500.0,\n",
       " 170.0,\n",
       " 140.0]"
      ]
     },
     "execution_count": 11,
     "metadata": {},
     "output_type": "execute_result"
    }
   ],
   "source": [
    "scores"
   ]
  },
  {
   "cell_type": "code",
   "execution_count": 15,
   "metadata": {},
   "outputs": [
    {
     "data": {
      "image/png": "[encoded data removed]",
      "text/plain": [
       "<matplotlib.figure.Figure at 0x116897790>"
      ]
     },
     "metadata": {},
     "output_type": "display_data"
    }
   ],
   "source": [
    "import numpy as np\n",
    "import matplotlib.pyplot as plt\n",
    "%matplotlib inline\n",
    "\n",
    "avg_scores = running_mean(scores, 5)\n",
    "plt.plot(range(len(avg_scores)), avg_scores);\n",
    "plt.show()"
   ]
  },
  {
   "cell_type": "code",
   "execution_count": 8,
   "metadata": {},
   "outputs": [
    {
     "ename": "SyntaxError",
     "evalue": "invalid syntax (<ipython-input-8-a5091eaea9bb>, line 1)",
     "traceback": [
      "\u001b[0;36m  File \u001b[0;32m\"<ipython-input-8-a5091eaea9bb>\"\u001b[0;36m, line \u001b[0;32m1\u001b[0m\n\u001b[0;31m    fuck yea\u001b[0m\n\u001b[0m           ^\u001b[0m\n\u001b[0;31mSyntaxError\u001b[0m\u001b[0;31m:\u001b[0m invalid syntax\n"
     ],
     "output_type": "error"
    }
   ],
   "source": [
    "fuck yea"
   ]
  },
  {
   "cell_type": "code",
   "execution_count": null,
   "metadata": {
    "collapsed": true
   },
   "outputs": [],
   "source": [
    "X_state_val, X_action_val, rewards, X_next_state_val, continues = sample_memories(batch_size)"
   ]
  },
  {
   "cell_type": "code",
   "execution_count": null,
   "metadata": {},
   "outputs": [],
   "source": [
    "X_state_val.shape"
   ]
  },
  {
   "cell_type": "code",
   "execution_count": null,
   "metadata": {},
   "outputs": [],
   "source": [
    "X_action_val"
   ]
  },
  {
   "cell_type": "code",
   "execution_count": null,
   "metadata": {},
   "outputs": [],
   "source": [
    "rewards.reshape(50,)"
   ]
  },
  {
   "cell_type": "code",
   "execution_count": null,
   "metadata": {},
   "outputs": [],
   "source": [
    "X_next_state_val.shape"
   ]
  },
  {
   "cell_type": "code",
   "execution_count": null,
   "metadata": {
    "collapsed": true
   },
   "outputs": [],
   "source": [
    "# TODO I don't understand this line of code\n",
    "next_q_values = actor_q_values.eval(feed_dict={X_state: X_next_state_val})\n",
    "# TODO I don't understand this line of code\n",
    "y_val = rewards + continues * discount_rate * np.max(next_q_values, axis=1, keepdims=True)"
   ]
  }
 ],
 "metadata": {
  "kernelspec": {
   "display_name": "Python 2",
   "language": "python",
   "name": "python2"
  },
  "language_info": {
   "codemirror_mode": {
    "name": "ipython",
    "version": 2
   },
   "file_extension": ".py",
   "mimetype": "text/x-python",
   "name": "python",
   "nbconvert_exporter": "python",
   "pygments_lexer": "ipython2",
   "version": "2.7.10"
  }
 },
 "nbformat": 4,
 "nbformat_minor": 1
}
